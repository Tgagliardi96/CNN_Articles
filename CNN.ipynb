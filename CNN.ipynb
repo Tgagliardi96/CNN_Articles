{
 "cells": [
  {
   "cell_type": "code",
   "execution_count": 1,
   "id": "a0908fe2",
   "metadata": {},
   "outputs": [],
   "source": [
    "# Libraries\n",
    "import pandas as pd\n",
    "import seaborn as sns\n",
    "import matplotlib.pyplot as plt\n",
    "\n",
    "from datetime import datetime"
   ]
  },
  {
   "cell_type": "code",
   "execution_count": 2,
   "id": "63cff120",
   "metadata": {},
   "outputs": [
    {
     "data": {
      "text/html": [
       "<div>\n",
       "<style scoped>\n",
       "    .dataframe tbody tr th:only-of-type {\n",
       "        vertical-align: middle;\n",
       "    }\n",
       "\n",
       "    .dataframe tbody tr th {\n",
       "        vertical-align: top;\n",
       "    }\n",
       "\n",
       "    .dataframe thead th {\n",
       "        text-align: right;\n",
       "    }\n",
       "</style>\n",
       "<table border=\"1\" class=\"dataframe\">\n",
       "  <thead>\n",
       "    <tr style=\"text-align: right;\">\n",
       "      <th></th>\n",
       "      <th>Index</th>\n",
       "      <th>Author</th>\n",
       "      <th>Date published</th>\n",
       "      <th>Category</th>\n",
       "      <th>Section</th>\n",
       "      <th>Url</th>\n",
       "      <th>Headline</th>\n",
       "      <th>Description</th>\n",
       "      <th>Keywords</th>\n",
       "      <th>Second headline</th>\n",
       "      <th>Article text</th>\n",
       "    </tr>\n",
       "  </thead>\n",
       "  <tbody>\n",
       "    <tr>\n",
       "      <th>0</th>\n",
       "      <td>0</td>\n",
       "      <td>Jacopo Prisco, CNN</td>\n",
       "      <td>2021-07-15 02:46:59</td>\n",
       "      <td>news</td>\n",
       "      <td>world</td>\n",
       "      <td>https://www.cnn.com/2021/07/14/world/tusimple-...</td>\n",
       "      <td>There's a shortage of truckers, but TuSimple t...</td>\n",
       "      <td>The e-commerce boom has exacerbated a global t...</td>\n",
       "      <td>world, There's a shortage of truckers, but TuS...</td>\n",
       "      <td>There's a shortage of truckers, but TuSimple t...</td>\n",
       "      <td>(CNN)Right now, there's a shortage of truck d...</td>\n",
       "    </tr>\n",
       "    <tr>\n",
       "      <th>1</th>\n",
       "      <td>1</td>\n",
       "      <td>Stephanie Bailey, CNN</td>\n",
       "      <td>2021-05-12 07:52:09</td>\n",
       "      <td>news</td>\n",
       "      <td>world</td>\n",
       "      <td>https://www.cnn.com/2021/05/12/world/ironhand-...</td>\n",
       "      <td>Bioservo's robotic 'Ironhand' could protect fa...</td>\n",
       "      <td>Working in a factory can mean doing the same t...</td>\n",
       "      <td>world, Bioservo's robotic 'Ironhand' could pro...</td>\n",
       "      <td>A robotic 'Ironhand' could protect factory wor...</td>\n",
       "      <td>(CNN)Working in a factory or warehouse can me...</td>\n",
       "    </tr>\n",
       "    <tr>\n",
       "      <th>2</th>\n",
       "      <td>2</td>\n",
       "      <td>Words by Stephanie Bailey, video by Zahra Jamshed</td>\n",
       "      <td>2021-06-16 02:51:30</td>\n",
       "      <td>news</td>\n",
       "      <td>asia</td>\n",
       "      <td>https://www.cnn.com/2021/06/15/asia/swarm-robo...</td>\n",
       "      <td>This swarm of robots gets smarter the more it ...</td>\n",
       "      <td>In a Hong Kong warehouse, a swarm of autonomou...</td>\n",
       "      <td>asia, This swarm of robots gets smarter the mo...</td>\n",
       "      <td>This swarm of robots gets smarter the more it ...</td>\n",
       "      <td>(CNN)In a Hong Kong warehouse, a swarm of aut...</td>\n",
       "    </tr>\n",
       "    <tr>\n",
       "      <th>3</th>\n",
       "      <td>3</td>\n",
       "      <td>Kathryn Vasel</td>\n",
       "      <td>2022-03-18 14:37:21</td>\n",
       "      <td>business</td>\n",
       "      <td>success</td>\n",
       "      <td>https://www.cnn.com/2022/03/18/success/pandemi...</td>\n",
       "      <td>Two years later, remote work has changed milli...</td>\n",
       "      <td>Here's a look at how the pandemic reshaped peo...</td>\n",
       "      <td>success, Two years later, remote work has chan...</td>\n",
       "      <td>Two years later, remote work has changed milli...</td>\n",
       "      <td>The pandemic thrust the working world into a n...</td>\n",
       "    </tr>\n",
       "    <tr>\n",
       "      <th>4</th>\n",
       "      <td>4</td>\n",
       "      <td>Paul R. La Monica, CNN Business</td>\n",
       "      <td>2022-03-19 11:41:08</td>\n",
       "      <td>business</td>\n",
       "      <td>investing</td>\n",
       "      <td>https://www.cnn.com/2022/03/19/investing/march...</td>\n",
       "      <td>Why March is so volatile for stocks - CNN</td>\n",
       "      <td>March Madness isn't just for college basketbal...</td>\n",
       "      <td>investing, Why March is so volatile for stocks...</td>\n",
       "      <td>Why March is so volatile for stocks</td>\n",
       "      <td>New York (CNN Business)March Madness isn't jus...</td>\n",
       "    </tr>\n",
       "  </tbody>\n",
       "</table>\n",
       "</div>"
      ],
      "text/plain": [
       "   Index                                             Author  \\\n",
       "0      0                                 Jacopo Prisco, CNN   \n",
       "1      1                              Stephanie Bailey, CNN   \n",
       "2      2  Words by Stephanie Bailey, video by Zahra Jamshed   \n",
       "3      3                                     Kathryn Vasel    \n",
       "4      4                    Paul R. La Monica, CNN Business   \n",
       "\n",
       "        Date published  Category    Section  \\\n",
       "0  2021-07-15 02:46:59      news      world   \n",
       "1  2021-05-12 07:52:09      news      world   \n",
       "2  2021-06-16 02:51:30      news       asia   \n",
       "3  2022-03-18 14:37:21  business    success   \n",
       "4  2022-03-19 11:41:08  business  investing   \n",
       "\n",
       "                                                 Url  \\\n",
       "0  https://www.cnn.com/2021/07/14/world/tusimple-...   \n",
       "1  https://www.cnn.com/2021/05/12/world/ironhand-...   \n",
       "2  https://www.cnn.com/2021/06/15/asia/swarm-robo...   \n",
       "3  https://www.cnn.com/2022/03/18/success/pandemi...   \n",
       "4  https://www.cnn.com/2022/03/19/investing/march...   \n",
       "\n",
       "                                            Headline  \\\n",
       "0  There's a shortage of truckers, but TuSimple t...   \n",
       "1  Bioservo's robotic 'Ironhand' could protect fa...   \n",
       "2  This swarm of robots gets smarter the more it ...   \n",
       "3  Two years later, remote work has changed milli...   \n",
       "4          Why March is so volatile for stocks - CNN   \n",
       "\n",
       "                                         Description  \\\n",
       "0  The e-commerce boom has exacerbated a global t...   \n",
       "1  Working in a factory can mean doing the same t...   \n",
       "2  In a Hong Kong warehouse, a swarm of autonomou...   \n",
       "3  Here's a look at how the pandemic reshaped peo...   \n",
       "4  March Madness isn't just for college basketbal...   \n",
       "\n",
       "                                            Keywords  \\\n",
       "0  world, There's a shortage of truckers, but TuS...   \n",
       "1  world, Bioservo's robotic 'Ironhand' could pro...   \n",
       "2  asia, This swarm of robots gets smarter the mo...   \n",
       "3  success, Two years later, remote work has chan...   \n",
       "4  investing, Why March is so volatile for stocks...   \n",
       "\n",
       "                                     Second headline  \\\n",
       "0  There's a shortage of truckers, but TuSimple t...   \n",
       "1  A robotic 'Ironhand' could protect factory wor...   \n",
       "2  This swarm of robots gets smarter the more it ...   \n",
       "3  Two years later, remote work has changed milli...   \n",
       "4                Why March is so volatile for stocks   \n",
       "\n",
       "                                        Article text  \n",
       "0   (CNN)Right now, there's a shortage of truck d...  \n",
       "1   (CNN)Working in a factory or warehouse can me...  \n",
       "2   (CNN)In a Hong Kong warehouse, a swarm of aut...  \n",
       "3  The pandemic thrust the working world into a n...  \n",
       "4  New York (CNN Business)March Madness isn't jus...  "
      ]
     },
     "execution_count": 2,
     "metadata": {},
     "output_type": "execute_result"
    }
   ],
   "source": [
    "# Opening dataset\n",
    "cnn = pd.read_csv(\"C:/Users/Tommaso/Desktop/DatasetsKaggle/CNN_Articles/CNN_Articles_clean_2/CNN_Articels_clean.csv\")\n",
    "cnn.head(n = 5)"
   ]
  },
  {
   "cell_type": "code",
   "execution_count": 3,
   "id": "e28401bc",
   "metadata": {},
   "outputs": [
    {
     "data": {
      "text/plain": [
       "Index(['Index', 'Author', 'Date published', 'Category', 'Section', 'Headline',\n",
       "       'Keywords', 'Article text'],\n",
       "      dtype='object')"
      ]
     },
     "execution_count": 3,
     "metadata": {},
     "output_type": "execute_result"
    }
   ],
   "source": [
    "# Eliminating columns\n",
    "# Url not valuable; description redundant of headline; second headlline redundant headline\n",
    "cnn = cnn.drop(columns = ['Url', 'Description', 'Second headline'])\n",
    "cnn.keys()"
   ]
  },
  {
   "cell_type": "code",
   "execution_count": 4,
   "id": "9e908e5a",
   "metadata": {},
   "outputs": [
    {
     "name": "stdout",
     "output_type": "stream",
     "text": [
      "<class 'pandas.core.frame.DataFrame'>\n",
      "RangeIndex: 37949 entries, 0 to 37948\n",
      "Data columns (total 8 columns):\n",
      " #   Column          Non-Null Count  Dtype \n",
      "---  ------          --------------  ----- \n",
      " 0   Index           37949 non-null  int64 \n",
      " 1   Author          37949 non-null  object\n",
      " 2   Date published  37949 non-null  object\n",
      " 3   Category        37949 non-null  object\n",
      " 4   Section         37949 non-null  object\n",
      " 5   Headline        37949 non-null  object\n",
      " 6   Keywords        37949 non-null  object\n",
      " 7   Article text    37940 non-null  object\n",
      "dtypes: int64(1), object(7)\n",
      "memory usage: 2.3+ MB\n"
     ]
    }
   ],
   "source": [
    "cnn.info()"
   ]
  },
  {
   "cell_type": "markdown",
   "id": "0e838bf3",
   "metadata": {},
   "source": [
    "The dataset presents only 9 missing values in 'Article text'. Due to restricted amount of values, it is possible to drop them. All variables are presented as object, except for the index which is evaluated as integer. "
   ]
  },
  {
   "cell_type": "code",
   "execution_count": 5,
   "id": "67f8229d",
   "metadata": {},
   "outputs": [],
   "source": [
    "# Dropping missing values\n",
    "cnn.dropna(inplace = True)"
   ]
  },
  {
   "cell_type": "code",
   "execution_count": 6,
   "id": "ba3bcfb8",
   "metadata": {},
   "outputs": [
    {
     "data": {
      "text/html": [
       "<div>\n",
       "<style scoped>\n",
       "    .dataframe tbody tr th:only-of-type {\n",
       "        vertical-align: middle;\n",
       "    }\n",
       "\n",
       "    .dataframe tbody tr th {\n",
       "        vertical-align: top;\n",
       "    }\n",
       "\n",
       "    .dataframe thead th {\n",
       "        text-align: right;\n",
       "    }\n",
       "</style>\n",
       "<table border=\"1\" class=\"dataframe\">\n",
       "  <thead>\n",
       "    <tr style=\"text-align: right;\">\n",
       "      <th></th>\n",
       "      <th>Author</th>\n",
       "      <th>Date published</th>\n",
       "      <th>Category</th>\n",
       "      <th>Section</th>\n",
       "      <th>Headline</th>\n",
       "      <th>Keywords</th>\n",
       "      <th>Article text</th>\n",
       "    </tr>\n",
       "  </thead>\n",
       "  <tbody>\n",
       "    <tr>\n",
       "      <th>count</th>\n",
       "      <td>37940</td>\n",
       "      <td>37940</td>\n",
       "      <td>37940</td>\n",
       "      <td>37940</td>\n",
       "      <td>37940</td>\n",
       "      <td>37940</td>\n",
       "      <td>37940</td>\n",
       "    </tr>\n",
       "    <tr>\n",
       "      <th>unique</th>\n",
       "      <td>11739</td>\n",
       "      <td>37939</td>\n",
       "      <td>9</td>\n",
       "      <td>55</td>\n",
       "      <td>37848</td>\n",
       "      <td>37854</td>\n",
       "      <td>37918</td>\n",
       "    </tr>\n",
       "    <tr>\n",
       "      <th>top</th>\n",
       "      <td>By</td>\n",
       "      <td>2016-02-17 14:08:53</td>\n",
       "      <td>news</td>\n",
       "      <td>europe</td>\n",
       "      <td>Must-watch videos of the week - CNN</td>\n",
       "      <td>app-news-section, Must-watch videos of the wee...</td>\n",
       "      <td>\\n</td>\n",
       "    </tr>\n",
       "    <tr>\n",
       "      <th>freq</th>\n",
       "      <td>3285</td>\n",
       "      <td>2</td>\n",
       "      <td>18069</td>\n",
       "      <td>10627</td>\n",
       "      <td>14</td>\n",
       "      <td>14</td>\n",
       "      <td>14</td>\n",
       "    </tr>\n",
       "  </tbody>\n",
       "</table>\n",
       "</div>"
      ],
      "text/plain": [
       "       Author       Date published Category Section  \\\n",
       "count   37940                37940    37940   37940   \n",
       "unique  11739                37939        9      55   \n",
       "top       By   2016-02-17 14:08:53     news  europe   \n",
       "freq     3285                    2    18069   10627   \n",
       "\n",
       "                                   Headline  \\\n",
       "count                                 37940   \n",
       "unique                                37848   \n",
       "top     Must-watch videos of the week - CNN   \n",
       "freq                                     14   \n",
       "\n",
       "                                                 Keywords Article text  \n",
       "count                                               37940        37940  \n",
       "unique                                              37854        37918  \n",
       "top     app-news-section, Must-watch videos of the wee...           \\n  \n",
       "freq                                                   14           14  "
      ]
     },
     "execution_count": 6,
     "metadata": {},
     "output_type": "execute_result"
    }
   ],
   "source": [
    "cnn.describe(include = 'object')"
   ]
  },
  {
   "cell_type": "markdown",
   "id": "5eed56ac",
   "metadata": {},
   "source": [
    "In order to understand the core business of CNN and its possible trends in 2022 (only series missing) the two variables highlighted are 'Category' and 'Section'. The categories correspond to the editorial board of CNN and indicate the broadcaster is divided in 9 major arguments for the news. Every category is divided into sub-categories, here named as sections. Those sections correspond to the micro arguments treated by CNN and are equal to 55."
   ]
  },
  {
   "cell_type": "code",
   "execution_count": 7,
   "id": "e5c95bb4",
   "metadata": {},
   "outputs": [
    {
     "data": {
      "text/plain": [
       "news             48.0\n",
       "sport            41.0\n",
       "politics          6.0\n",
       "business          2.0\n",
       "health            1.0\n",
       "entertainment     1.0\n",
       "Name: Category, dtype: float64"
      ]
     },
     "execution_count": 7,
     "metadata": {},
     "output_type": "execute_result"
    }
   ],
   "source": [
    "# Presence of categories in percentage\n",
    "round(cnn['Category'].value_counts(normalize = True) * 100).loc[lambda x : x>=1] # excluded categories = 0%"
   ]
  },
  {
   "cell_type": "markdown",
   "id": "e1f0a946",
   "metadata": {},
   "source": [
    "The core business of CNN is constituted from news, with circa 50% of the arguments treated. Then sport, which covers 40% of news given. All other categories are minor arguments for CNN, with 11% of news to be divided between the topics indicated."
   ]
  },
  {
   "cell_type": "code",
   "execution_count": 8,
   "id": "8a0caa5a",
   "metadata": {},
   "outputs": [
    {
     "data": {
      "text/plain": [
       "europe      28.0\n",
       "sport       15.0\n",
       "football    13.0\n",
       "Name: Section, dtype: float64"
      ]
     },
     "execution_count": 8,
     "metadata": {},
     "output_type": "execute_result"
    }
   ],
   "source": [
    "# Presence of sections in percentage\n",
    "round(cnn['Section'].value_counts(normalize = True) *100).loc[lambda x : x>=13] # limited to 13%, others between 0-6%"
   ]
  },
  {
   "cell_type": "code",
   "execution_count": 9,
   "id": "09f6efff",
   "metadata": {},
   "outputs": [
    {
     "data": {
      "text/plain": [
       "europe        59.0\n",
       "us            12.0\n",
       "uk            10.0\n",
       "opinions       5.0\n",
       "world          3.0\n",
       "australia      3.0\n",
       "asia           2.0\n",
       "americas       1.0\n",
       "opinion        1.0\n",
       "africa         1.0\n",
       "middleeast     1.0\n",
       "weather        1.0\n",
       "china          1.0\n",
       "living         1.0\n",
       "Name: Section, dtype: float64"
      ]
     },
     "execution_count": 9,
     "metadata": {},
     "output_type": "execute_result"
    }
   ],
   "source": [
    "# Isolating category \"news\": how much of each section?\n",
    "cnn_news = cnn.loc[cnn['Category'] == 'news', 'Section']\n",
    "round(cnn_news.value_counts(normalize = True) *100).loc[lambda x : x>=1] # excluded sections = 0%"
   ]
  },
  {
   "cell_type": "markdown",
   "id": "6240a43b",
   "metadata": {},
   "source": [
    "CNN appears to divide the news for countries and continents with a particular focus on foreign news than American. More than one quarter of the news covers European countries, followed by U.S. and U.K. The section of sport is covered for its majoritarian part as a general section, then comes football."
   ]
  },
  {
   "cell_type": "code",
   "execution_count": 10,
   "id": "3f84c389",
   "metadata": {},
   "outputs": [],
   "source": [
    "# Reformatting 'Date Published' in datetime\n",
    "cnn['Date published'] = pd.to_datetime(cnn['Date published'], format = '%Y-%m-%d')"
   ]
  },
  {
   "cell_type": "code",
   "execution_count": 11,
   "id": "7074f754",
   "metadata": {},
   "outputs": [],
   "source": [
    "# Creating new column to strip time from date\n",
    "cnn['Month'] = cnn['Date published'].dt.month\n",
    "cnn['Year'] = cnn['Date published'].dt.year"
   ]
  },
  {
   "cell_type": "code",
   "execution_count": 12,
   "id": "51e9f06d",
   "metadata": {},
   "outputs": [
    {
     "data": {
      "text/plain": [
       "Index(['Index', 'Author', 'Date published', 'Category', 'Section', 'Headline',\n",
       "       'Keywords', 'Article text', 'Month', 'Year', 'Date'],\n",
       "      dtype='object')"
      ]
     },
     "execution_count": 12,
     "metadata": {},
     "output_type": "execute_result"
    }
   ],
   "source": [
    "# Creating new date uniting year and month (stripped before)\n",
    "cnn['Date'] = cnn['Year'].astype(str) + '- ' + cnn['Month'].astype(str)\n",
    "cnn.keys()"
   ]
  },
  {
   "cell_type": "code",
   "execution_count": 13,
   "id": "50f2cafa",
   "metadata": {},
   "outputs": [
    {
     "data": {
      "text/html": [
       "<div>\n",
       "<style scoped>\n",
       "    .dataframe tbody tr th:only-of-type {\n",
       "        vertical-align: middle;\n",
       "    }\n",
       "\n",
       "    .dataframe tbody tr th {\n",
       "        vertical-align: top;\n",
       "    }\n",
       "\n",
       "    .dataframe thead th {\n",
       "        text-align: right;\n",
       "    }\n",
       "</style>\n",
       "<table border=\"1\" class=\"dataframe\">\n",
       "  <thead>\n",
       "    <tr style=\"text-align: right;\">\n",
       "      <th></th>\n",
       "      <th>Index</th>\n",
       "      <th>Author</th>\n",
       "      <th>Date published</th>\n",
       "      <th>Category</th>\n",
       "      <th>Section</th>\n",
       "      <th>Headline</th>\n",
       "      <th>Keywords</th>\n",
       "      <th>Article text</th>\n",
       "      <th>Month</th>\n",
       "      <th>Year</th>\n",
       "      <th>Date</th>\n",
       "    </tr>\n",
       "  </thead>\n",
       "  <tbody>\n",
       "    <tr>\n",
       "      <th>0</th>\n",
       "      <td>0</td>\n",
       "      <td>Jacopo Prisco, CNN</td>\n",
       "      <td>2021-07-15 02:46:59</td>\n",
       "      <td>news</td>\n",
       "      <td>world</td>\n",
       "      <td>There's a shortage of truckers, but TuSimple t...</td>\n",
       "      <td>world, There's a shortage of truckers, but TuS...</td>\n",
       "      <td>(CNN)Right now, there's a shortage of truck d...</td>\n",
       "      <td>7</td>\n",
       "      <td>2021</td>\n",
       "      <td>2021-07-01</td>\n",
       "    </tr>\n",
       "    <tr>\n",
       "      <th>1</th>\n",
       "      <td>1</td>\n",
       "      <td>Stephanie Bailey, CNN</td>\n",
       "      <td>2021-05-12 07:52:09</td>\n",
       "      <td>news</td>\n",
       "      <td>world</td>\n",
       "      <td>Bioservo's robotic 'Ironhand' could protect fa...</td>\n",
       "      <td>world, Bioservo's robotic 'Ironhand' could pro...</td>\n",
       "      <td>(CNN)Working in a factory or warehouse can me...</td>\n",
       "      <td>5</td>\n",
       "      <td>2021</td>\n",
       "      <td>2021-05-01</td>\n",
       "    </tr>\n",
       "    <tr>\n",
       "      <th>2</th>\n",
       "      <td>2</td>\n",
       "      <td>Words by Stephanie Bailey, video by Zahra Jamshed</td>\n",
       "      <td>2021-06-16 02:51:30</td>\n",
       "      <td>news</td>\n",
       "      <td>asia</td>\n",
       "      <td>This swarm of robots gets smarter the more it ...</td>\n",
       "      <td>asia, This swarm of robots gets smarter the mo...</td>\n",
       "      <td>(CNN)In a Hong Kong warehouse, a swarm of aut...</td>\n",
       "      <td>6</td>\n",
       "      <td>2021</td>\n",
       "      <td>2021-06-01</td>\n",
       "    </tr>\n",
       "    <tr>\n",
       "      <th>3</th>\n",
       "      <td>3</td>\n",
       "      <td>Kathryn Vasel</td>\n",
       "      <td>2022-03-18 14:37:21</td>\n",
       "      <td>business</td>\n",
       "      <td>success</td>\n",
       "      <td>Two years later, remote work has changed milli...</td>\n",
       "      <td>success, Two years later, remote work has chan...</td>\n",
       "      <td>The pandemic thrust the working world into a n...</td>\n",
       "      <td>3</td>\n",
       "      <td>2022</td>\n",
       "      <td>2022-03-01</td>\n",
       "    </tr>\n",
       "    <tr>\n",
       "      <th>4</th>\n",
       "      <td>4</td>\n",
       "      <td>Paul R. La Monica, CNN Business</td>\n",
       "      <td>2022-03-19 11:41:08</td>\n",
       "      <td>business</td>\n",
       "      <td>investing</td>\n",
       "      <td>Why March is so volatile for stocks - CNN</td>\n",
       "      <td>investing, Why March is so volatile for stocks...</td>\n",
       "      <td>New York (CNN Business)March Madness isn't jus...</td>\n",
       "      <td>3</td>\n",
       "      <td>2022</td>\n",
       "      <td>2022-03-01</td>\n",
       "    </tr>\n",
       "  </tbody>\n",
       "</table>\n",
       "</div>"
      ],
      "text/plain": [
       "   Index                                             Author  \\\n",
       "0      0                                 Jacopo Prisco, CNN   \n",
       "1      1                              Stephanie Bailey, CNN   \n",
       "2      2  Words by Stephanie Bailey, video by Zahra Jamshed   \n",
       "3      3                                     Kathryn Vasel    \n",
       "4      4                    Paul R. La Monica, CNN Business   \n",
       "\n",
       "       Date published  Category    Section  \\\n",
       "0 2021-07-15 02:46:59      news      world   \n",
       "1 2021-05-12 07:52:09      news      world   \n",
       "2 2021-06-16 02:51:30      news       asia   \n",
       "3 2022-03-18 14:37:21  business    success   \n",
       "4 2022-03-19 11:41:08  business  investing   \n",
       "\n",
       "                                            Headline  \\\n",
       "0  There's a shortage of truckers, but TuSimple t...   \n",
       "1  Bioservo's robotic 'Ironhand' could protect fa...   \n",
       "2  This swarm of robots gets smarter the more it ...   \n",
       "3  Two years later, remote work has changed milli...   \n",
       "4          Why March is so volatile for stocks - CNN   \n",
       "\n",
       "                                            Keywords  \\\n",
       "0  world, There's a shortage of truckers, but TuS...   \n",
       "1  world, Bioservo's robotic 'Ironhand' could pro...   \n",
       "2  asia, This swarm of robots gets smarter the mo...   \n",
       "3  success, Two years later, remote work has chan...   \n",
       "4  investing, Why March is so volatile for stocks...   \n",
       "\n",
       "                                        Article text  Month  Year       Date  \n",
       "0   (CNN)Right now, there's a shortage of truck d...      7  2021 2021-07-01  \n",
       "1   (CNN)Working in a factory or warehouse can me...      5  2021 2021-05-01  \n",
       "2   (CNN)In a Hong Kong warehouse, a swarm of aut...      6  2021 2021-06-01  \n",
       "3  The pandemic thrust the working world into a n...      3  2022 2022-03-01  \n",
       "4  New York (CNN Business)March Madness isn't jus...      3  2022 2022-03-01  "
      ]
     },
     "execution_count": 13,
     "metadata": {},
     "output_type": "execute_result"
    }
   ],
   "source": [
    "# Converting Date in datetime format (default day = 1)\n",
    "cnn['Date'] = pd.to_datetime(cnn['Date'])\n",
    "cnn.head(n = 5)"
   ]
  },
  {
   "cell_type": "code",
   "execution_count": 14,
   "id": "4c009b98",
   "metadata": {},
   "outputs": [
    {
     "name": "stdout",
     "output_type": "stream",
     "text": [
      "<class 'pandas.core.frame.DataFrame'>\n",
      "Int64Index: 37940 entries, 0 to 37948\n",
      "Data columns (total 11 columns):\n",
      " #   Column          Non-Null Count  Dtype         \n",
      "---  ------          --------------  -----         \n",
      " 0   Index           37940 non-null  int64         \n",
      " 1   Author          37940 non-null  object        \n",
      " 2   Date published  37940 non-null  datetime64[ns]\n",
      " 3   Category        37940 non-null  object        \n",
      " 4   Section         37940 non-null  object        \n",
      " 5   Headline        37940 non-null  object        \n",
      " 6   Keywords        37940 non-null  object        \n",
      " 7   Article text    37940 non-null  object        \n",
      " 8   Month           37940 non-null  int64         \n",
      " 9   Year            37940 non-null  int64         \n",
      " 10  Date            37940 non-null  datetime64[ns]\n",
      "dtypes: datetime64[ns](2), int64(3), object(6)\n",
      "memory usage: 3.5+ MB\n"
     ]
    }
   ],
   "source": [
    "# Verifying new column is in datetime format\n",
    "cnn.info()"
   ]
  },
  {
   "cell_type": "markdown",
   "id": "b56f7028",
   "metadata": {},
   "source": [
    "# How was the trend in news covering during years?"
   ]
  },
  {
   "cell_type": "markdown",
   "id": "2cc586ce",
   "metadata": {},
   "source": [
    "News constitute the core business of CNN. The objective is to isolate this category to see how much they were present during the years, tracing a monthly time series.\n",
    "After having composed the time series it will be possible to forecast the amount of news that CNN will broadcast next and make predictions on some other trends for this broadcaster."
   ]
  },
  {
   "cell_type": "code",
   "execution_count": 15,
   "id": "ea348f0e",
   "metadata": {},
   "outputs": [
    {
     "data": {
      "text/plain": [
       "2021    5577\n",
       "2019    4395\n",
       "2020    4060\n",
       "2018    3529\n",
       "2022    3305\n",
       "2016    3279\n",
       "2012    2972\n",
       "2017    2810\n",
       "2015    2770\n",
       "2013    2480\n",
       "2014    1787\n",
       "2011     976\n",
       "Name: Year, dtype: int64"
      ]
     },
     "execution_count": 15,
     "metadata": {},
     "output_type": "execute_result"
    }
   ],
   "source": [
    "# Amount of news given every year\n",
    "cnn['Year'].value_counts()"
   ]
  },
  {
   "cell_type": "code",
   "execution_count": 16,
   "id": "d31e9d4b",
   "metadata": {},
   "outputs": [
    {
     "data": {
      "text/plain": [
       "<AxesSubplot:xlabel='Year', ylabel='Count'>"
      ]
     },
     "execution_count": 16,
     "metadata": {},
     "output_type": "execute_result"
    },
    {
     "data": {
      "image/png": "[encoded data removed]",
      "text/plain": [
       "<Figure size 432x288 with 1 Axes>"
      ]
     },
     "metadata": {
      "needs_background": "light"
     },
     "output_type": "display_data"
    }
   ],
   "source": [
    "# Visualization previous yearly decomposition\n",
    "sns.histplot(cnn['Year'], kde = False)"
   ]
  },
  {
   "cell_type": "markdown",
   "id": "f2cb6001",
   "metadata": {},
   "source": [
    "The trend from 2011 is composed from a three year ascending-and-peak process. The only exception is 2013, which has a lower number of news of 2012 even though it's higher than 2014.\n",
    "Looking at this chart it is possible to speculate that 2022 will have more news broadcast than 2021"
   ]
  },
  {
   "cell_type": "code",
   "execution_count": 17,
   "id": "276d474e",
   "metadata": {},
   "outputs": [
    {
     "data": {
      "text/html": [
       "<div>\n",
       "<style scoped>\n",
       "    .dataframe tbody tr th:only-of-type {\n",
       "        vertical-align: middle;\n",
       "    }\n",
       "\n",
       "    .dataframe tbody tr th {\n",
       "        vertical-align: top;\n",
       "    }\n",
       "\n",
       "    .dataframe thead th {\n",
       "        text-align: right;\n",
       "    }\n",
       "</style>\n",
       "<table border=\"1\" class=\"dataframe\">\n",
       "  <thead>\n",
       "    <tr style=\"text-align: right;\">\n",
       "      <th></th>\n",
       "      <th>Month</th>\n",
       "      <th>Year</th>\n",
       "      <th>Category</th>\n",
       "    </tr>\n",
       "  </thead>\n",
       "  <tbody>\n",
       "    <tr>\n",
       "      <th>11299</th>\n",
       "      <td>12</td>\n",
       "      <td>2011</td>\n",
       "      <td>sport</td>\n",
       "    </tr>\n",
       "    <tr>\n",
       "      <th>11100</th>\n",
       "      <td>11</td>\n",
       "      <td>2011</td>\n",
       "      <td>sport</td>\n",
       "    </tr>\n",
       "    <tr>\n",
       "      <th>11101</th>\n",
       "      <td>11</td>\n",
       "      <td>2011</td>\n",
       "      <td>sport</td>\n",
       "    </tr>\n",
       "    <tr>\n",
       "      <th>11102</th>\n",
       "      <td>11</td>\n",
       "      <td>2011</td>\n",
       "      <td>sport</td>\n",
       "    </tr>\n",
       "    <tr>\n",
       "      <th>11103</th>\n",
       "      <td>11</td>\n",
       "      <td>2011</td>\n",
       "      <td>news</td>\n",
       "    </tr>\n",
       "    <tr>\n",
       "      <th>...</th>\n",
       "      <td>...</td>\n",
       "      <td>...</td>\n",
       "      <td>...</td>\n",
       "    </tr>\n",
       "    <tr>\n",
       "      <th>3843</th>\n",
       "      <td>1</td>\n",
       "      <td>2022</td>\n",
       "      <td>business</td>\n",
       "    </tr>\n",
       "    <tr>\n",
       "      <th>3844</th>\n",
       "      <td>1</td>\n",
       "      <td>2022</td>\n",
       "      <td>politics</td>\n",
       "    </tr>\n",
       "    <tr>\n",
       "      <th>3848</th>\n",
       "      <td>2</td>\n",
       "      <td>2022</td>\n",
       "      <td>business</td>\n",
       "    </tr>\n",
       "    <tr>\n",
       "      <th>3850</th>\n",
       "      <td>1</td>\n",
       "      <td>2022</td>\n",
       "      <td>business</td>\n",
       "    </tr>\n",
       "    <tr>\n",
       "      <th>10316</th>\n",
       "      <td>1</td>\n",
       "      <td>2022</td>\n",
       "      <td>news</td>\n",
       "    </tr>\n",
       "  </tbody>\n",
       "</table>\n",
       "<p>37940 rows × 3 columns</p>\n",
       "</div>"
      ],
      "text/plain": [
       "       Month  Year  Category\n",
       "11299     12  2011     sport\n",
       "11100     11  2011     sport\n",
       "11101     11  2011     sport\n",
       "11102     11  2011     sport\n",
       "11103     11  2011      news\n",
       "...      ...   ...       ...\n",
       "3843       1  2022  business\n",
       "3844       1  2022  politics\n",
       "3848       2  2022  business\n",
       "3850       1  2022  business\n",
       "10316      1  2022      news\n",
       "\n",
       "[37940 rows x 3 columns]"
      ]
     },
     "execution_count": 17,
     "metadata": {},
     "output_type": "execute_result"
    }
   ],
   "source": [
    "# Isolate 'Category' to analyze news\n",
    "cnn_year = cnn.loc[:, ('Month', 'Year', 'Category')]\n",
    "cnn_year = cnn_year.sort_values(by = ['Year'], ascending = True) # sort dataframe (from 2011 to 2022)\n",
    "cnn_year"
   ]
  },
  {
   "cell_type": "code",
   "execution_count": 18,
   "id": "ea845e3c",
   "metadata": {},
   "outputs": [],
   "source": [
    "# Dividing 'Category' in 0-1: if news = 1, others = 0 \n",
    "\n",
    "for index, col in cnn_year.iterrows():\n",
    "    \n",
    "    if cnn_year.loc[index, 'Category'] == 'news':\n",
    "        cnn_year.loc[index, 'Category'] = '1'\n",
    "        \n",
    "    elif cnn_year.loc[index, 'Category'] == 'business':\n",
    "        cnn_year.loc[index, 'Category'] = '0'\n",
    "        \n",
    "    elif cnn_year.loc[index, 'Category'] == 'health':\n",
    "        cnn_year.loc[index, 'Category'] = '0'\n",
    "        \n",
    "    elif cnn_year.loc[index, 'Category'] == 'entertainment':\n",
    "        cnn_year.loc[index, 'Category'] = '0'\n",
    "        \n",
    "    elif cnn_year.loc[index, 'Category'] == 'sport':\n",
    "        cnn_year.loc[index, 'Category'] = '0'\n",
    "        \n",
    "    elif cnn_year.loc[index, 'Category'] == 'politics':\n",
    "        cnn_year.loc[index, 'Category'] = '0'\n",
    "        \n",
    "    elif cnn_year.loc[index, 'Category'] == 'travel':\n",
    "        cnn_year.loc[index, 'Category'] = '0'\n",
    "        \n",
    "    elif cnn_year.loc[index, 'Category'] == 'vr':\n",
    "        cnn_year.loc[index, 'Category'] = '0'\n",
    "        \n",
    "    elif cnn_year.loc[index, 'Category'] == 'style':\n",
    "        cnn_year.loc[index, 'Category'] = '0'"
   ]
  },
  {
   "cell_type": "code",
   "execution_count": 19,
   "id": "1e133664",
   "metadata": {},
   "outputs": [],
   "source": [
    "# Dropping 0s (new version of dataframe with 18069 observations)\n",
    "cnn_year = cnn_year.drop(cnn_year[cnn_year.Category == '0'].index)"
   ]
  },
  {
   "cell_type": "code",
   "execution_count": 20,
   "id": "1117c507",
   "metadata": {},
   "outputs": [
    {
     "data": {
      "text/html": [
       "<div>\n",
       "<style scoped>\n",
       "    .dataframe tbody tr th:only-of-type {\n",
       "        vertical-align: middle;\n",
       "    }\n",
       "\n",
       "    .dataframe tbody tr th {\n",
       "        vertical-align: top;\n",
       "    }\n",
       "\n",
       "    .dataframe thead th {\n",
       "        text-align: right;\n",
       "    }\n",
       "</style>\n",
       "<table border=\"1\" class=\"dataframe\">\n",
       "  <thead>\n",
       "    <tr style=\"text-align: right;\">\n",
       "      <th></th>\n",
       "      <th>Month</th>\n",
       "    </tr>\n",
       "    <tr>\n",
       "      <th>Year</th>\n",
       "      <th></th>\n",
       "    </tr>\n",
       "  </thead>\n",
       "  <tbody>\n",
       "    <tr>\n",
       "      <th>2011</th>\n",
       "      <td>4635</td>\n",
       "    </tr>\n",
       "    <tr>\n",
       "      <th>2012</th>\n",
       "      <td>7285</td>\n",
       "    </tr>\n",
       "    <tr>\n",
       "      <th>2013</th>\n",
       "      <td>7598</td>\n",
       "    </tr>\n",
       "    <tr>\n",
       "      <th>2014</th>\n",
       "      <td>6705</td>\n",
       "    </tr>\n",
       "    <tr>\n",
       "      <th>2015</th>\n",
       "      <td>8950</td>\n",
       "    </tr>\n",
       "    <tr>\n",
       "      <th>2016</th>\n",
       "      <td>9469</td>\n",
       "    </tr>\n",
       "    <tr>\n",
       "      <th>2017</th>\n",
       "      <td>8999</td>\n",
       "    </tr>\n",
       "    <tr>\n",
       "      <th>2018</th>\n",
       "      <td>12819</td>\n",
       "    </tr>\n",
       "    <tr>\n",
       "      <th>2019</th>\n",
       "      <td>13272</td>\n",
       "    </tr>\n",
       "    <tr>\n",
       "      <th>2020</th>\n",
       "      <td>13216</td>\n",
       "    </tr>\n",
       "    <tr>\n",
       "      <th>2021</th>\n",
       "      <td>18394</td>\n",
       "    </tr>\n",
       "    <tr>\n",
       "      <th>2022</th>\n",
       "      <td>2413</td>\n",
       "    </tr>\n",
       "  </tbody>\n",
       "</table>\n",
       "</div>"
      ],
      "text/plain": [
       "      Month\n",
       "Year       \n",
       "2011   4635\n",
       "2012   7285\n",
       "2013   7598\n",
       "2014   6705\n",
       "2015   8950\n",
       "2016   9469\n",
       "2017   8999\n",
       "2018  12819\n",
       "2019  13272\n",
       "2020  13216\n",
       "2021  18394\n",
       "2022   2413"
      ]
     },
     "execution_count": 20,
     "metadata": {},
     "output_type": "execute_result"
    }
   ],
   "source": [
    "# Sum news for every year\n",
    "cnn_year = cnn_year.groupby(by = ['Year']).sum()\n",
    "cnn_year"
   ]
  },
  {
   "cell_type": "code",
   "execution_count": 21,
   "id": "fbaa82a7",
   "metadata": {},
   "outputs": [
    {
     "data": {
      "text/plain": [
       "<AxesSubplot:xlabel='Year', ylabel='Month'>"
      ]
     },
     "execution_count": 21,
     "metadata": {},
     "output_type": "execute_result"
    },
    {
     "data": {
      "image/png": "[encoded data removed]",
      "text/plain": [
       "<Figure size 842.4x595.44 with 1 Axes>"
      ]
     },
     "metadata": {},
     "output_type": "display_data"
    }
   ],
   "source": [
    "# Time series yearly news on CNN\n",
    "sns.set(rc={'figure.figsize':(11.7,8.27)}) # setting bigger size of chart\n",
    "sns.lineplot(data = cnn_year, x = 'Year', y = 'Month')"
   ]
  },
  {
   "cell_type": "code",
   "execution_count": 22,
   "id": "c19c24f5",
   "metadata": {},
   "outputs": [],
   "source": [
    "# Slicing dataframe for monthly analysis\n",
    "cnn_month = cnn.loc[:, ('Date', 'Year', 'Month', 'Category')]"
   ]
  },
  {
   "cell_type": "code",
   "execution_count": 23,
   "id": "e8539d13",
   "metadata": {},
   "outputs": [],
   "source": [
    "# Dividing 'Category' in 0-1\n",
    "for index, col in cnn_month.iterrows():\n",
    "    \n",
    "    if cnn_month.loc[index, 'Category'] == 'news':\n",
    "        cnn_month.loc[index, 'Category'] = '0'\n",
    "        \n",
    "    else:\n",
    "        cnn_month.loc[index, 'Category'] = '1'"
   ]
  },
  {
   "cell_type": "code",
   "execution_count": 24,
   "id": "611ace1a",
   "metadata": {},
   "outputs": [],
   "source": [
    "# Dropping all non news categories\n",
    "cnn_month = cnn_month.drop(cnn_month[cnn_month.Category == '1'].index)"
   ]
  },
  {
   "cell_type": "code",
   "execution_count": 25,
   "id": "244db74a",
   "metadata": {},
   "outputs": [],
   "source": [
    "# Sorting dataframe for year\n",
    "cnn_month = cnn_month.sort_values(by = ['Year'], ascending = True)"
   ]
  },
  {
   "cell_type": "code",
   "execution_count": 26,
   "id": "20b5c42c",
   "metadata": {},
   "outputs": [],
   "source": [
    "# Amount of news for every month\n",
    "cnn_month = cnn_month.groupby(by = ['Year', 'Month']).size() "
   ]
  },
  {
   "cell_type": "code",
   "execution_count": 27,
   "id": "9a4cc9fe",
   "metadata": {},
   "outputs": [],
   "source": [
    "# Series transformed to dataframe\n",
    "cnn_month = pd.DataFrame(data = cnn_month)"
   ]
  },
  {
   "cell_type": "code",
   "execution_count": 28,
   "id": "22533e9d",
   "metadata": {},
   "outputs": [],
   "source": [
    "# Dataframe brought to excel to be modified\n",
    "\n",
    "#cnn_month.to_excel('CNN_Month.xlsx')"
   ]
  },
  {
   "cell_type": "code",
   "execution_count": 29,
   "id": "6b3d4111",
   "metadata": {},
   "outputs": [],
   "source": [
    "cnn_mon = pd.read_excel('C:/Users/Tommaso/Desktop/DatasetsKaggle/CNN_Articles/CNN_Month.xlsx', sheet_name = 1)"
   ]
  },
  {
   "cell_type": "code",
   "execution_count": 30,
   "id": "eb0e6713",
   "metadata": {},
   "outputs": [
    {
     "data": {
      "text/plain": [
       "<AxesSubplot:xlabel='Year', ylabel='News_per_Month'>"
      ]
     },
     "execution_count": 30,
     "metadata": {},
     "output_type": "execute_result"
    },
    {
     "data": {
      "image/png": "[encoded data removed]",
      "text/plain": [
       "<Figure size 842.4x595.44 with 1 Axes>"
      ]
     },
     "metadata": {},
     "output_type": "display_data"
    }
   ],
   "source": [
    "# News for every month\n",
    "sns.set(rc={'figure.figsize':(11.7,8.27)})\n",
    "sns.lineplot(data = cnn_mon, x = 'Year', y = 'News_per_Month')"
   ]
  },
  {
   "cell_type": "code",
   "execution_count": 31,
   "id": "235313e3",
   "metadata": {},
   "outputs": [
    {
     "data": {
      "text/plain": [
       "<AxesSubplot:xlabel='Year', ylabel='News_per_Month'>"
      ]
     },
     "execution_count": 31,
     "metadata": {},
     "output_type": "execute_result"
    },
    {
     "data": {
      "image/png": "[encoded data removed]",
      "text/plain": [
       "<Figure size 842.4x595.44 with 1 Axes>"
      ]
     },
     "metadata": {},
     "output_type": "display_data"
    }
   ],
   "source": [
    "# Decomposition separating each month\n",
    "sns.set(rc={'figure.figsize':(11.7,8.27)})\n",
    "sns.lineplot(data = cnn_mon, x = 'Year', y = 'News_per_Month', hue = 'Month')"
   ]
  },
  {
   "cell_type": "code",
   "execution_count": null,
   "id": "66755eb4",
   "metadata": {},
   "outputs": [],
   "source": []
  }
 ],
 "metadata": {
  "kernelspec": {
   "display_name": "Python 3 (ipykernel)",
   "language": "python",
   "name": "python3"
  },
  "language_info": {
   "codemirror_mode": {
    "name": "ipython",
    "version": 3
   },
   "file_extension": ".py",
   "mimetype": "text/x-python",
   "name": "python",
   "nbconvert_exporter": "python",
   "pygments_lexer": "ipython3",
   "version": "3.8.8"
  },
  "toc": {
   "base_numbering": 1,
   "nav_menu": {},
   "number_sections": true,
   "sideBar": true,
   "skip_h1_title": false,
   "title_cell": "Table of Contents",
   "title_sidebar": "Contents",
   "toc_cell": false,
   "toc_position": {},
   "toc_section_display": true,
   "toc_window_display": false
  },
  "varInspector": {
   "cols": {
    "lenName": 16,
    "lenType": 16,
    "lenVar": 40
   },
   "kernels_config": {
    "python": {
     "delete_cmd_postfix": "",
     "delete_cmd_prefix": "del ",
     "library": "var_list.py",
     "varRefreshCmd": "print(var_dic_list())"
    },
    "r": {
     "delete_cmd_postfix": ") ",
     "delete_cmd_prefix": "rm(",
     "library": "var_list.r",
     "varRefreshCmd": "cat(var_dic_list()) "
    }
   },
   "types_to_exclude": [
    "module",
    "function",
    "builtin_function_or_method",
    "instance",
    "_Feature"
   ],
   "window_display": false
  }
 },
 "nbformat": 4,
 "nbformat_minor": 5
}
